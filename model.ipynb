{
 "cells": [
  {
   "cell_type": "markdown",
   "metadata": {},
   "source": [
    "## Modelling Corn Plant Disease Classification with EfficientNet\n",
    "# Summary & How to Use\n",
    "\n",
    "The use of this web utlity platform is to let users of the internet upload pictures of corn plant images, have it be classified and get a determination output as to what kind of disease it shows. The platform will be UI/UX friendly for everyone of age, showing relevancy of informations about the indicated diseases. It is an integrated system of web development and AI modelling."
   ]
  },
  {
   "cell_type": "code",
   "execution_count": 3,
   "metadata": {},
   "outputs": [
    {
     "name": "stdout",
     "output_type": "stream",
     "text": [
      "Collecting pip\n",
      "  Downloading pip-22.0.4-py3-none-any.whl (2.1 MB)\n",
      "Installing collected packages: pip\n",
      "  Attempting uninstall: pip\n",
      "    Found existing installation: pip 20.0.2\n",
      "    Uninstalling pip-20.0.2:\n",
      "      Successfully uninstalled pip-20.0.2\n",
      "Successfully installed pip-22.0.4\n",
      "Package                      Version\n",
      "---------------------------- --------------------\n",
      "absl-py                      1.0.0\n",
      "anyio                        3.4.0\n",
      "AnyQt                        0.0.13\n",
      "appdirs                      1.4.3\n",
      "apturl                       0.5.2\n",
      "argon2-cffi                  21.3.0\n",
      "argon2-cffi-bindings         21.2.0\n",
      "asn1crypto                   0.24.0\n",
      "astunparse                   1.6.3\n",
      "attrs                        21.4.0\n",
      "backcall                     0.1.0\n",
      "baycomp                      1.0.2\n",
      "bcrypt                       3.1.7\n",
      "beautifulsoup4               4.10.0\n",
      "bleach                       4.1.0\n",
      "blinker                      1.4\n",
      "Bottleneck                   1.3.2\n",
      "Brlapi                       0.7.0\n",
      "CacheControl                 0.12.10\n",
      "cachetools                   5.0.0\n",
      "certifi                      2019.11.28\n",
      "cffi                         1.15.0\n",
      "chardet                      3.0.4\n",
      "charset-normalizer           2.0.9\n",
      "chrome-gnome-shell           0.0.0\n",
      "Click                        7.0\n",
      "colorama                     0.4.3\n",
      "command-not-found            0.3\n",
      "commonmark                   0.9.1\n",
      "cryptography                 2.8\n",
      "cupshelpers                  1.0\n",
      "cycler                       0.10.0\n",
      "dbus-python                  1.2.16\n",
      "debugpy                      1.5.1\n",
      "decorator                    4.4.2\n",
      "defer                        1.0.6\n",
      "defusedxml                   0.7.1\n",
      "dictdiffer                   0.9.0\n",
      "distlib                      0.3.0\n",
      "distro                       1.4.0\n",
      "distro-info                  0.23ubuntu1\n",
      "docutils                     0.18.1\n",
      "duplicity                    0.8.12.0\n",
      "efficientnet                 1.1.1\n",
      "entrypoints                  0.3\n",
      "et-xmlfile                   1.1.0\n",
      "fasteners                    0.14.1\n",
      "filelock                     3.0.12\n",
      "flatbuffers                  2.0\n",
      "future                       0.18.2\n",
      "gast                         0.5.3\n",
      "google-auth                  2.6.2\n",
      "google-auth-oauthlib         0.4.6\n",
      "google-pasta                 0.2.0\n",
      "grpcio                       1.44.0\n",
      "h11                          0.12.0\n",
      "h5py                         3.6.0\n",
      "httpcore                     0.13.7\n",
      "httplib2                     0.14.0\n",
      "httpx                        0.19.0\n",
      "idna                         2.8\n",
      "imageio                      2.16.1\n",
      "importlib-metadata           4.11.3\n",
      "importlib-resources          5.4.0\n",
      "ipykernel                    6.6.0\n",
      "ipython                      7.30.1\n",
      "ipython_genutils             0.2.0\n",
      "jedi                         0.18.1\n",
      "Jinja2                       3.0.3\n",
      "joblib                       1.1.0\n",
      "jsonschema                   4.4.0\n",
      "jupyter-client               7.1.0\n",
      "jupyter-core                 4.9.1\n",
      "jupyterlab-pygments          0.1.2\n",
      "keras                        2.8.0\n",
      "Keras-Applications           1.0.8\n",
      "Keras-Preprocessing          1.1.2\n",
      "keyring                      18.0.1\n",
      "keyrings.alt                 3.4.0\n",
      "kiwisolver                   1.0.1\n",
      "language-selector            0.1\n",
      "launchpadlib                 1.10.13\n",
      "lazr.restfulclient           0.14.2\n",
      "lazr.uri                     1.0.3\n",
      "libclang                     13.0.0\n",
      "libvirt-python               6.1.0\n",
      "lockfile                     0.12.2\n",
      "louis                        3.12.0\n",
      "macaroonbakery               1.3.1\n",
      "Mako                         1.1.0\n",
      "Markdown                     3.3.6\n",
      "MarkupSafe                   2.1.1\n",
      "matplotlib                   3.1.2\n",
      "matplotlib-inline            0.1.3\n",
      "mistune                      0.8.4\n",
      "monotonic                    1.5\n",
      "more-itertools               4.2.0\n",
      "msgpack                      1.0.3\n",
      "nbclient                     0.5.13\n",
      "nbconvert                    6.4.4\n",
      "nbformat                     5.2.0\n",
      "nest-asyncio                 1.5.4\n",
      "netifaces                    0.10.4\n",
      "networkx                     2.6.3\n",
      "notebook                     6.4.10\n",
      "numpy                        1.22.3\n",
      "oauth                        1.0.1\n",
      "oauthlib                     3.1.0\n",
      "olefile                      0.46\n",
      "openpyxl                     3.0.9\n",
      "openTSNE                     0.6.1\n",
      "opt-einsum                   3.3.0\n",
      "orange-canvas-core           0.1.24\n",
      "orange-widget-base           4.16.1\n",
      "Orange3                      3.31.0\n",
      "packaging                    21.3\n",
      "pandas                       1.3.5\n",
      "pandocfilters                1.5.0\n",
      "paramiko                     2.6.0\n",
      "parso                        0.8.3\n",
      "pexpect                      4.6.0\n",
      "pickleshare                  0.7.5\n",
      "Pillow                       7.0.0\n",
      "pip                          22.0.4\n",
      "pkg_resources                0.0.0\n",
      "prometheus-client            0.13.1\n",
      "prompt-toolkit               2.0.10\n",
      "protobuf                     3.19.4\n",
      "psutil                       5.7.2\n",
      "psycopg2                     2.8.4\n",
      "ptyprocess                   0.7.0\n",
      "pyasn1                       0.4.8\n",
      "pyasn1-modules               0.2.8\n",
      "pycairo                      1.16.2\n",
      "pycparser                    2.21\n",
      "pycrypto                     2.6.1\n",
      "pycups                       1.9.73\n",
      "Pygments                     2.11.1\n",
      "PyGObject                    3.36.0\n",
      "PyJWT                        1.7.1\n",
      "pymacaroons                  0.13.0\n",
      "PyNaCl                       1.3.0\n",
      "pyparsing                    2.4.6\n",
      "PyQt5                        5.15.6\n",
      "PyQt5-Qt5                    5.15.2\n",
      "PyQt5-sip                    12.9.0\n",
      "pyqtgraph                    0.12.3\n",
      "PyQtWebEngine                5.15.5\n",
      "PyQtWebEngine-Qt5            5.15.2\n",
      "pyRFC3339                    1.1\n",
      "pyrsistent                   0.18.1\n",
      "pyte                         0.8.0\n",
      "python-apt                   2.0.0+ubuntu0.20.4.7\n",
      "python-dateutil              2.7.3\n",
      "python-debian                0.1.36ubuntu1\n",
      "python-louvain               0.15\n",
      "pytz                         2019.3\n",
      "PyWavelets                   1.3.0\n",
      "pyxdg                        0.26\n",
      "PyYAML                       5.3.1\n",
      "pyzmq                        22.3.0\n",
      "qasync                       0.22.0\n",
      "qtconsole                    5.2.2\n",
      "QtPy                         2.0.0\n",
      "reportlab                    3.5.34\n",
      "requests                     2.22.0\n",
      "requests-oauthlib            1.3.1\n",
      "requests-unixsocket          0.2.0\n",
      "rfc3986                      1.5.0\n",
      "rsa                          4.8\n",
      "scikit-image                 0.19.2\n",
      "scikit-learn                 1.0.2\n",
      "scipy                        1.7.3\n",
      "SecretStorage                2.3.1\n",
      "Send2Trash                   1.8.0\n",
      "serverfiles                  0.3.1\n",
      "setuptools                   44.0.0\n",
      "simplejson                   3.16.0\n",
      "six                          1.14.0\n",
      "sniffio                      1.2.0\n",
      "soupsieve                    2.3.1\n",
      "ssh-import-id                5.10\n",
      "system-service               0.3\n",
      "systemd-python               234\n",
      "tensorboard                  2.8.0\n",
      "tensorboard-data-server      0.6.1\n",
      "tensorboard-plugin-wit       1.8.1\n",
      "tensorflow-io-gcs-filesystem 0.24.0\n",
      "termcolor                    1.1.0\n",
      "terminado                    0.13.3\n",
      "testpath                     0.6.0\n",
      "tf-estimator-nightly         2.8.0.dev2021122109\n",
      "thefuck                      3.30\n",
      "threadpoolctl                3.0.0\n",
      "tifffile                     2022.3.16\n",
      "tornado                      6.1\n",
      "traitlets                    5.1.1\n",
      "typing_extensions            4.0.1\n",
      "ubuntu-advantage-tools       27.6\n",
      "ubuntu-drivers-common        0.0.0\n",
      "ufw                          0.36\n",
      "unattended-upgrades          0.1\n",
      "urllib3                      1.25.8\n",
      "usb-creator                  0.3.7\n",
      "virtualenv                   20.0.17\n",
      "wadllib                      1.3.3\n",
      "wcwidth                      0.1.8\n",
      "webencodings                 0.5.1\n",
      "Werkzeug                     2.0.3\n",
      "wheel                        0.34.2\n",
      "wrapt                        1.14.0\n",
      "xkit                         0.0.0\n",
      "xlrd                         2.0.1\n",
      "XlsxWriter                   3.0.2\n",
      "zipp                         3.7.0\n",
      "zope.interface               4.7.1\n"
     ]
    }
   ],
   "source": [
    "%%bash\n",
    "\n",
    "python3 -m venv --system-site-packages ./venv\n",
    "source ./venv/bin/activate\n",
    "pip install --upgrade pip\n",
    "pip list"
   ]
  },
  {
   "cell_type": "code",
   "execution_count": 4,
   "metadata": {},
   "outputs": [
    {
     "name": "stdout",
     "output_type": "stream",
     "text": [
      "Note: you may need to restart the kernel to use updated packages.\n",
      "Collecting Pillow\n",
      "  Downloading Pillow-9.0.1-cp38-cp38-manylinux_2_17_x86_64.manylinux2014_x86_64.whl (4.3 MB)\n",
      "\u001b[K     |████████████████████████████████| 4.3 MB 407 kB/s eta 0:00:01\n",
      "\u001b[?25hInstalling collected packages: Pillow\n",
      "Successfully installed Pillow-9.0.1\n",
      "Note: you may need to restart the kernel to use updated packages.\n",
      "Note: you may need to restart the kernel to use updated packages.\n"
     ]
    }
   ],
   "source": [
    " \n",
    "%pip install -q efficientnet\n",
    "%pip install --upgrade -q Pillow\n",
    "%pip install -q tensorflow"
   ]
  },
  {
   "cell_type": "code",
   "execution_count": 10,
   "metadata": {},
   "outputs": [],
   "source": [
    "import os\n",
    "import tensorflow as tf\n",
    "import efficientnet.tfkeras as efn\n",
    "import pandas as pd\n",
    "import matplotlib.pyplot as plt\n"
   ]
  },
  {
   "cell_type": "code",
   "execution_count": 3,
   "metadata": {},
   "outputs": [
    {
     "name": "stdout",
     "output_type": "stream",
     "text": [
      "['Corn_(maize)___Cercospora_leaf_spot Gray_leaf_spot', 'Corn_(maize)___Common_rust_', 'Corn_(maize)___Northern_Leaf_Blight', 'Corn_(maize)___healthy']\n",
      "Total disease classes are: 4\n"
     ]
    }
   ],
   "source": [
    "base_path = \"./data\"\n",
    "train_dir = base_path + \"/train\"\n",
    "test_dir = base_path + \"/test\"\n",
    "diseases = os.listdir(train_dir)\n",
    "print(diseases)\n",
    "print(\"Total disease classes are: {}\".format(len(diseases)))"
   ]
  },
  {
   "cell_type": "markdown",
   "metadata": {},
   "source": [
    "### Exploring the Data"
   ]
  },
  {
   "cell_type": "code",
   "execution_count": 19,
   "metadata": {},
   "outputs": [
    {
     "name": "stdout",
     "output_type": "stream",
     "text": [
      "                                                    No. of images\n",
      "Corn_(maize)___Cercospora_leaf_spot Gray_leaf_spot            513\n",
      "Corn_(maize)___Common_rust_                                  1192\n",
      "Corn_(maize)___Northern_Leaf_Blight                           985\n",
      "Corn_(maize)___healthy                                       1162\n",
      "\n",
      "There are 3852 images in total for training\n"
     ]
    }
   ],
   "source": [
    "# Exploring the data gathered\n",
    "nums = {}\n",
    "for disease in diseases:\n",
    "    nums[disease] = len(os.listdir(train_dir + '/' + disease))\n",
    "\n",
    "img_per_class = pd.DataFrame(nums.values(), index=nums.keys(), columns=[\"No. of images\"])\n",
    "print(img_per_class)\n",
    "\n",
    "n_train = 0\n",
    "for val in nums.values():\n",
    "    n_train += val\n",
    "print(f\"\\nThere are {n_train} images in total for training\")"
   ]
  },
  {
   "cell_type": "code",
   "execution_count": 14,
   "metadata": {},
   "outputs": [
    {
     "data": {
      "text/plain": [
       "Text(0.5, 1.0, 'Images per each class of plant disease')"
      ]
     },
     "execution_count": 14,
     "metadata": {},
     "output_type": "execute_result"
    },
    {
     "data": {
      "image/png": "[encoded data removed]",
      "text/plain": [
       "<Figure size 1440x360 with 1 Axes>"
      ]
     },
     "metadata": {
      "needs_background": "light"
     },
     "output_type": "display_data"
    }
   ],
   "source": [
    "index = [n for n in range(4)]\n",
    "plt.figure(figsize=(20,5))\n",
    "plt.bar(index, [n for n in nums.values()], width=0.3)\n",
    "plt.xlabel('Plants/Diseases')\n",
    "plt.ylabel('No of images available')\n",
    "plt.xticks(index, diseases)\n",
    "plt.title('Images per each class of plant disease')"
   ]
  },
  {
   "cell_type": "markdown",
   "metadata": {},
   "source": [
    "### Preparing the Data for Training"
   ]
  },
  {
   "cell_type": "code",
   "execution_count": null,
   "metadata": {},
   "outputs": [],
   "source": []
  }
 ],
 "metadata": {
  "interpreter": {
   "hash": "30295c5bec572e859485b1ffa5e89b8b3e2022ef6e3e739c1ac40f143a557caf"
  },
  "kernelspec": {
   "display_name": "Python 3.6.7 64-bit",
   "language": "python",
   "name": "python3"
  },
  "language_info": {
   "codemirror_mode": {
    "name": "ipython",
    "version": 3
   },
   "file_extension": ".py",
   "mimetype": "text/x-python",
   "name": "python",
   "nbconvert_exporter": "python",
   "pygments_lexer": "ipython3",
   "version": "3.8.10"
  },
  "orig_nbformat": 4
 },
 "nbformat": 4,
 "nbformat_minor": 2
}
